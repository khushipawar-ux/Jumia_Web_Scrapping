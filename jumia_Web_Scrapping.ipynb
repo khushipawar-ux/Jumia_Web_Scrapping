{
 "cells": [
  {
   "cell_type": "code",
   "execution_count": 1,
   "id": "cb96f830-033a-46e7-bbb1-db8a636bdb92",
   "metadata": {},
   "outputs": [],
   "source": [
    "from bs4 import BeautifulSoup\n",
    "import requests\n",
    "import pandas as pd"
   ]
  },
  {
   "cell_type": "code",
   "execution_count": 3,
   "id": "1a51aff7-14d0-4b77-b8e6-3b4f7c1ab924",
   "metadata": {},
   "outputs": [],
   "source": [
    "jumia = requests.get('https://www.jumia.co.ke/all-products/')"
   ]
  },
  {
   "cell_type": "code",
   "execution_count": 5,
   "id": "e4cb8375-8917-4da9-8a3a-ebdc5104b557",
   "metadata": {},
   "outputs": [
    {
     "data": {
      "text/plain": [
       "b'<!DOCTYPE html><html lang=\"en-US\"><head><title>Just a moment...</title><meta http-equiv=\"Content-Type\" content=\"text/html; charset=UTF-8\"><meta http-equiv=\"X-UA-Compatible\" content=\"IE=Edge\"><meta name=\"robots\" content=\"noindex,nofollow\"><meta name=\"viewport\" content=\"width=device-width,initial-scale=1\"><style>*{box-sizing:border-box;margin:0;padding:0}html{line-height:1.15;-webkit-text-size-adjust:100%;color:#313131;font-family:system-ui,-apple-system,BlinkMacSystemFont,Segoe UI,Roboto,Helvetica Neue,Arial,Noto Sans,sans-serif,Apple Color Emoji,Segoe UI Emoji,Segoe UI Symbol,Noto Color Emoji}body{display:flex;flex-direction:column;height:100vh;min-height:100vh}.main-content{margin:8rem auto;max-width:60rem;padding-left:1.5rem}@media (width <= 720px){.main-content{margin-top:4rem}}.h2{font-size:1.5rem;font-weight:500;line-height:2.25rem}@media (width <= 720px){.h2{font-size:1.25rem;line-height:1.5rem}}#challenge-error-text{background-image:url(data:image/svg+xml;base64,PHN2ZyB4bWxucz0iaHR0cDovL3d3dy53My5vcmcvMjAwMC9zdmciIHdpZHRoPSIzMiIgaGVpZ2h0PSIzMiIgZmlsbD0ibm9uZSI+PHBhdGggZmlsbD0iI0IyMEYwMyIgZD0iTTE2IDNhMTMgMTMgMCAxIDAgMTMgMTNBMTMuMDE1IDEzLjAxNSAwIDAgMCAxNiAzbTAgMjRhMTEgMTEgMCAxIDEgMTEtMTEgMTEuMDEgMTEuMDEgMCAwIDEtMTEgMTEiLz48cGF0aCBmaWxsPSIjQjIwRjAzIiBkPSJNMTcuMDM4IDE4LjYxNUgxNC44N0wxNC41NjMgOS41aDIuNzgzem0tMS4wODQgMS40MjdxLjY2IDAgMS4wNTcuMzg4LjQwNy4zODkuNDA3Ljk5NCAwIC41OTYtLjQwNy45ODQtLjM5Ny4zOS0xLjA1Ny4zODktLjY1IDAtMS4wNTYtLjM4OS0uMzk4LS4zODktLjM5OC0uOTg0IDAtLjU5Ny4zOTgtLjk4NS40MDYtLjM5NyAxLjA1Ni0uMzk3Ii8+PC9zdmc+);background-repeat:no-repeat;background-size:contain;padding-left:34px}@media (prefers-color-scheme:dark){body{background-color:#222;color:#d9d9d9}}</style><meta http-equiv=\"refresh\" content=\"120\"></head><body class=\"no-js\"><div class=\"main-wrapper\" role=\"main\"><div class=\"main-content\"><noscript><div class=\"h2\"><span id=\"challenge-error-text\">Enable JavaScript and cookies to continue</span></div></noscript></div></div><script>(function(){window._cf_chl_opt={cvId: \\'3\\',cZone: \"www.jumia.co.ke\",cType: \\'non-interactive\\',cRay: \\'921e96876818f31f\\',cH: \\'vFHXlc.FOgDR3_pj.4tc_KrLcKYJ09cozyNmngEKx7w-1742236504-1.2.1.1-4rem0u4Zc0VEJluNPFGax51FixE5HJ__SHBHNfvnbXC2.9caANYDzSAotmCZolRZ\\',cUPMDTk: \"\\\\/all-products\\\\/?__cf_chl_tk=JcbWjdxTolMDYSQIZkwRUYIIlbFaml6Kj9DbQMawdoc-1742236504-1.0.1.1-8s5FY045iHO6g9cMc6KfBoZCaJ22iKnYInMBn1nYU3g\",cFPWv: \\'g\\',cITimeS: \\'1742236504\\',cTTimeMs: \\'1000\\',cMTimeMs: \\'120000\\',cTplC: 0,cTplV: 5,cTplB: \\'cf\\',cK: \"\",fa: \"\\\\/all-products\\\\/?__cf_chl_f_tk=JcbWjdxTolMDYSQIZkwRUYIIlbFaml6Kj9DbQMawdoc-1742236504-1.0.1.1-8s5FY045iHO6g9cMc6KfBoZCaJ22iKnYInMBn1nYU3g\",md: \"VfnrFrFiL6b1lYM0drTIP5Garj4ypJAl3KoWVhJ3BuU-1742236504-1.2.1.1-P6Mw1eRjpaUyWhoZiurlTGmx_c7sELws2D.iloBCDbh9zK5axAlp.cnOiW5Es383V8dXImKcBaEZ6CxmfxhbM9wXMXdTIbr_s8MBGYXiHF1jcGANelyoSfGdpjjcextvghqR8CV5CW9Z1Wc936LyLVCaRbGWZkDR5Kiqc4y5mibSzEIjGnd0HFF2emNsXgtGF0QDBQCXfLPPfOCg_zP4QhheTIbs0aZqkc3yK83zdynMEVPvF.ariow9FhEXQGWNir7GAQDDD1Rch5FBFyoyx0dfK2hYx7feGoGjWWmk2g5s0wFFxYzovpUKzZb13lNUgNAPEbUnxQuu4F8DyYcHGg6cTQwEtwncxCkK7CWA6IGhn_ZFGR6OA2UGCEQWJ7sPtCTWQP_p7VDwjEOu0neuMtG6kNlZdtQKMnMAPmj8mWxcq83BFz2pZH5Z8sl8rHtbkrSiRgPFBA_SLc0Ui8tl_qtMV6YxdIGfvpQ6V5mIkkobpSxtr9UDetcI51K8Pga1rNONxWFAvjwKYmIB2zQq.LD46EL9VZGKtNTO0li05M8uelIeCX8OG0enm2W713PDPnNws6JAkiYt1jQaso01CsP..GEr89VmLqH8oX2PAn03Z2ZW6Gl9_csd7iT0.cMcd0m8q_x6GfL.uXhkczhKFPoL62NAqEQ67Mu3Sz9gcKr4cXurfEEL5p0dWb0tdtzWcCg7PecMhjiy4wNJucrmUR5_jZ6J26qi.gHazf6l9bFUomO1G8Rg0HtPs5BpxlmjjJ9H82oaC6evbyTqnMoQYDvh7BoBk5rEJ06boN9lE33BiiMFFq5Xjy9c.3X65jsDscHuI.Qf3yDgQ82K.ehstUPXcR9DaRShJzLTEpK1MehOM_VjJj8uz4bcKi7zozfFgU7fXHUDPFsSgPRwnf_ci_.H07TD9YcPfSZAGW69OmdrOXnZRjQDnPoyKYEbGrj8Z5auGKEnkne9FYl3xWFvnTpT7nOSMc8joCB2KKMLVRkpXk530UcC4k7xM2oxcgIK9ZBm5ONfUa16pp6e5_HsG.7sQ7RAYwWIgXZCuYVLGz53s9IFx1dDkgR.HMthVq5FiQLe0axS425Ms.T792le1NqkEuLSiUEgjIP_LaB2kewz64MjmhFh0c5cacG1rRYI\",mdrd: \"0M6193Th53B9aLHpb_oLw_7q_Uuf.Py.vgMsVZwoELU-1742236504-1.2.1.1-X5dJsOTHC61IYqTkXMCDs6z.33Q7wBwq6.aKA0xj7_V0c9pJ1Rl13I3G1ol5M0XP8bmTCpj.qfRZKvaaDpQECGeiEGMlJORpJuDi3w4NUG3TqGB3ArmXydAFziEjbC8dF1TiJRnPMyFcfnNyjic1lb9lu.2VKULVcZHe6Y.qx_0KS3RrfnfGuT_iSL3piaVhwMxaxM.p3VBfbAtOw_IIo0n_fxPtIcs1npJ1B2hSUe6HZ.rov7yCpFkxmAL0zK3xVbwXoL3NpQYiSlP1lGEsfBs2Q9WGUL5f1e01vBPUbTB6gn5sGeR3BQxVPgok8EtiJaSicVs27UPAnr1.QowdpTN6sv_ZudDvhoPicXBzeLlx_Kp7SZoEcwUYDi3faHoOb.0_zOBE5Cg9zUzTNqnJTgSC._EQhh8C2XXKyQBt27TrUdQtIrAk.1UKwbbffWip8sOFkWhkNikY33FCnq.GAcWzOxQzN2HaMzGFo7qolywuvB9Ac3CDS2Orqg06odPymU9_1o2Sg6MNjFrLtgQJ2mwthnENxF8V_tvG2Biv0sSej9XMY24_xiSwMn0.HN.kjdEVTUT5fj8QvF7Qlio03iSeeGvbzEhKkkU2FYKCWXklRkVw.i.ZrxfhYKi_yPLS54CVvUyO2XelyCQb5nX3Qrth02UjrbEibLQcscWNE3SGnvPSOl0fxGJ7.PlRzG332cIAhTbapY441lof0R70DOddoH5H22Wt5W4v.QON8LyhaLsyN_YPjYrLnNtIprkgL1GDUQcRnNI_RWE.fD9zJeR1nSHNMVglbcRu_esB_zQJbfH8n8gKCrvgpxn.ucXM5Sj.rm69Re6CwJMcePgTep5GtzfsU2a8.NYfZIzxsKrZ36UYpXjzJMqdiNKdVtBCZEtHalSyUcdRyi_vIA6PR5dGaCFMuucaU5oMwKQWO0qr3eRwdHiQlVkoXkCEcmZdIYYT62lez.hgVRCZKDQbTekA1gVlxyXq.1gtbJP6iF2Tyj3clpvQQeSAB7MDMqtP4gqCzibjtlvRb3z_K4SN1G4OqilrMGTkriCpWN06fC9zVpQBnf0KqG66hO4WhfRDWsdmTkKOOvfDlvapN6SZvmZcPR_vJAaj3i4EYWSkeASXoIYgZm4cvMuLkayW37ubnAsRV8xj1yp3XCCSchPkOGXKOn5zOsUfnmLv1PZj3D89TrI4H3h7FaiJm5BS5biNbqFqwi3NfnZwDkgx2j3eobZH98yHUKv4f7v1Bm6qYT641pTnJKOIR5od2rQiUzWMVJiL88IvssE503cvgKcE_IGVHogFJD1xmJX_r2QMEkTGDz0sbEN5ltM.N9qdigDayxL3QRn2xz5j607t3Xxt9_p1NZdB4lHYxVx4lzJDkrgzBU2CoP0LKwNnUxyqiWb39OW0TsTVTmdNqMhTi5CTmhF8X2_N_e_u6gIwNCokM5eYrMzuUa1nfVdCHlBpud7D3i6eicuO1LwCyayyX9zJMBM8OEh3miezDfcc1fHUsshGBsjl5ilA6Q511b6Ac5bT7jM1kFQsoGCZRUBR78iTnwjSZ3jxTlM5k1zKeEDgnXySeUnNCr2bECtrofdf66IE0wfsNk5GXee99yPF436G8kQsOAXAOuSXU6dtDDRzTSZPXwKBz4tACOh5H.aqWcMhEyyruzHy6IiKCcMGjRkTSz59B.2X3w29lL0F_H75imxMXjti8.5InWTjjzthNUwQaGPXWAPlZaLOP9DwGYpR1XzQWshONiP0MYCMXB_5KDgk3bxzos1eAazQzgXDxtrs16dpdoxxS_pylo31wxxejFJ2l708sZR_QBgm3Du.pgWYVLL2bONjvLRdMJYJmf.v50.8UTFoY8aSCXk70RSaR7I_WNbgHndhfL2b2kxvzoFzfmB6eQhPOCfgfVeLwdhC2LEULmRurJ.Bu9espUazXJQ.vh9vDAjGXn_3EzMsYlWOwEL9GD_2uYcg0yIi9N0Bi2e1lstO7vWc08CAxIRopd.SWU6b19wrmYTEvIEKAoHrGUP2fAnBSkFObsS1v2cU0pTqJxADkp14bpQLAHB4UamOdWgGzQAOjvWWNQ3UoguHHygsCWsog0PcclWeHXDjbdVv6BejPvM9p0Pys9CwXmtZ08k07eecejgGw43sPB5ANf0lduSehbFlXwhyXqidEcokoNycJwWoOza3azKe7DCynShiEU4ckRFs9Lf5TXdgqmtbHFKpH2C2xR3H_N_UzqbSAOwQPz4VCB_A6FOyx_XGZ5.uXz99_z3VOUZU_.Qiwe5Wm6zLkFlH99FsPu6B\"};var cpo = document.createElement(\\'script\\');cpo.src = \\'/cdn-cgi/challenge-platform/h/g/orchestrate/chl_page/v1?ray=921e96876818f31f\\';window._cf_chl_opt.cOgUHash = location.hash === \\'\\' && location.href.indexOf(\\'#\\') !== -1 ? \\'#\\' : location.hash;window._cf_chl_opt.cOgUQuery = location.search === \\'\\' && location.href.slice(0, location.href.length - window._cf_chl_opt.cOgUHash.length).indexOf(\\'?\\') !== -1 ? \\'?\\' : location.search;if (window.history && window.history.replaceState) {var ogU = location.pathname + window._cf_chl_opt.cOgUQuery + window._cf_chl_opt.cOgUHash;history.replaceState(null, null, \"\\\\/all-products\\\\/?__cf_chl_rt_tk=JcbWjdxTolMDYSQIZkwRUYIIlbFaml6Kj9DbQMawdoc-1742236504-1.0.1.1-8s5FY045iHO6g9cMc6KfBoZCaJ22iKnYInMBn1nYU3g\" + window._cf_chl_opt.cOgUHash);cpo.onload = function() {history.replaceState(null, null, ogU);}}document.getElementsByTagName(\\'head\\')[0].appendChild(cpo);}());</script></body></html>'"
      ]
     },
     "execution_count": 5,
     "metadata": {},
     "output_type": "execute_result"
    }
   ],
   "source": [
    "jumia.content"
   ]
  },
  {
   "cell_type": "code",
   "execution_count": 7,
   "id": "16563f40-60b4-45f4-b61c-69b5db1bfb79",
   "metadata": {},
   "outputs": [],
   "source": [
    "name_info = []\n",
    "price_info = []\n",
    "rating_info = []"
   ]
  },
  {
   "cell_type": "code",
   "execution_count": 9,
   "id": "c6c19331-ef5c-41e4-aa38-5a2124aef9c3",
   "metadata": {},
   "outputs": [],
   "source": [
    "for page in range(1,51):\n",
    "    url = \"https://www.jumia.co.ke/all-products\" + \"?page=\" + str(page) + \"#catalog-listing\"\n",
    "    furl = requests.get(url)\n",
    "    jsoup = BeautifulSoup(furl.content, 'html.parser')\n",
    "    products = jsoup.find_all('div', class_ ='info')\n",
    "\n",
    "    for product in products:\n",
    "        \n",
    "        Name = product.find('h3', class_ ='name').text.replace(\"\\n\", '')\n",
    "        Price = product.find('div', class_ ='prc').text.replace('\\n', '')\n",
    "        \n",
    "        try:\n",
    "            Rating = product.find('div', class_ ='star_s').text.replace('\\n', '')\n",
    "        except:\n",
    "            Rating = 'None'\n",
    "            \n",
    "        name_info.append(Name)\n",
    "        price_info.append(Price)\n",
    "        Rating_info.append(Rating)\n",
    "\n",
    "        print(name_info, price_info, Rating_info)"
   ]
  },
  {
   "cell_type": "code",
   "execution_count": 11,
   "id": "4e01d5c7-836e-4845-8d33-9598eb35eba0",
   "metadata": {},
   "outputs": [],
   "source": [
    "dict = {'Product Name':name_info, 'Price':price_info, 'Rating':rating_info}"
   ]
  },
  {
   "cell_type": "code",
   "execution_count": 13,
   "id": "1a326ebe-90a3-4401-8cd1-fd3dc8900423",
   "metadata": {},
   "outputs": [],
   "source": [
    "df = pd.DataFrame(dict)"
   ]
  },
  {
   "cell_type": "code",
   "execution_count": 15,
   "id": "2a958f03-025d-4c67-b318-739984635711",
   "metadata": {},
   "outputs": [
    {
     "data": {
      "text/html": [
       "<div>\n",
       "<style scoped>\n",
       "    .dataframe tbody tr th:only-of-type {\n",
       "        vertical-align: middle;\n",
       "    }\n",
       "\n",
       "    .dataframe tbody tr th {\n",
       "        vertical-align: top;\n",
       "    }\n",
       "\n",
       "    .dataframe thead th {\n",
       "        text-align: right;\n",
       "    }\n",
       "</style>\n",
       "<table border=\"1\" class=\"dataframe\">\n",
       "  <thead>\n",
       "    <tr style=\"text-align: right;\">\n",
       "      <th></th>\n",
       "      <th>Product Name</th>\n",
       "      <th>Price</th>\n",
       "      <th>Rating</th>\n",
       "    </tr>\n",
       "  </thead>\n",
       "  <tbody>\n",
       "  </tbody>\n",
       "</table>\n",
       "</div>"
      ],
      "text/plain": [
       "Empty DataFrame\n",
       "Columns: [Product Name, Price, Rating]\n",
       "Index: []"
      ]
     },
     "execution_count": 15,
     "metadata": {},
     "output_type": "execute_result"
    }
   ],
   "source": [
    "df"
   ]
  },
  {
   "cell_type": "code",
   "execution_count": 17,
   "id": "ce5a1de0-6bd2-4283-856c-bb39096c15f3",
   "metadata": {},
   "outputs": [],
   "source": [
    "df.to_csv('products_from_jumia.csv', index=False,encoding = 'utf-8')"
   ]
  },
  {
   "cell_type": "code",
   "execution_count": null,
   "id": "4f34d7b1-df03-490c-95ac-a486cc45c939",
   "metadata": {},
   "outputs": [],
   "source": []
  }
 ],
 "metadata": {
  "kernelspec": {
   "display_name": "Python [conda env:base] *",
   "language": "python",
   "name": "conda-base-py"
  },
  "language_info": {
   "codemirror_mode": {
    "name": "ipython",
    "version": 3
   },
   "file_extension": ".py",
   "mimetype": "text/x-python",
   "name": "python",
   "nbconvert_exporter": "python",
   "pygments_lexer": "ipython3",
   "version": "3.11.7"
  }
 },
 "nbformat": 4,
 "nbformat_minor": 5
}
